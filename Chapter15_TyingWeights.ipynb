{
 "cells": [
  {
   "cell_type": "code",
   "execution_count": 1,
   "metadata": {},
   "outputs": [],
   "source": [
    "#\n",
    "import tensorflow as tf\n",
    "import numpy as np\n",
    "import matplotlib.pyplot as plt\n",
    "%matplotlib inline"
   ]
  },
  {
   "cell_type": "code",
   "execution_count": 2,
   "metadata": {},
   "outputs": [],
   "source": [
    "tf.reset_default_graph()"
   ]
  },
  {
   "cell_type": "markdown",
   "metadata": {},
   "source": [
    "Import MNIST data"
   ]
  },
  {
   "cell_type": "code",
   "execution_count": 3,
   "metadata": {},
   "outputs": [],
   "source": [
    "from tensorflow.examples.tutorials.mnist import input_data"
   ]
  },
  {
   "cell_type": "code",
   "execution_count": 4,
   "metadata": {},
   "outputs": [
    {
     "name": "stdout",
     "output_type": "stream",
     "text": [
      "Extracting mnist/train-images-idx3-ubyte.gz\n",
      "Extracting mnist/train-labels-idx1-ubyte.gz\n",
      "Extracting mnist/t10k-images-idx3-ubyte.gz\n",
      "Extracting mnist/t10k-labels-idx1-ubyte.gz\n"
     ]
    }
   ],
   "source": [
    "mnist = input_data.read_data_sets('mnist')"
   ]
  },
  {
   "cell_type": "markdown",
   "metadata": {},
   "source": [
    "Some settings"
   ]
  },
  {
   "cell_type": "markdown",
   "metadata": {},
   "source": [
    "# Tying weights"
   ]
  },
  {
   "cell_type": "markdown",
   "metadata": {},
   "source": [
    "It is common to tie the weights of the encoder and the decoder. So, $W_{L} = W_{N-L+1}^T$ where $L<=N/2$. To do it, we have to explicitly manipulate the weights so that tf.layers.dense is NOT a good option. We have to build autoencoder manually."
   ]
  },
  {
   "cell_type": "markdown",
   "metadata": {},
   "source": [
    "Some settings"
   ]
  },
  {
   "cell_type": "code",
   "execution_count": 5,
   "metadata": {},
   "outputs": [],
   "source": [
    "#\n",
    "tf.reset_default_graph()\n",
    "n_inputs = 28*28\n",
    "n_hidden1 = 200\n",
    "n_hidden2 = 150\n",
    "n_hidden3 = n_hidden1\n",
    "n_outputs = n_inputs\n",
    "\n",
    "learning_rate = 0.01\n",
    "l2_reg = 0.0005"
   ]
  },
  {
   "cell_type": "markdown",
   "metadata": {},
   "source": [
    "Build the network using he initializer and l2 regularization and ELU activation function."
   ]
  },
  {
   "cell_type": "code",
   "execution_count": 6,
   "metadata": {},
   "outputs": [],
   "source": [
    "X = tf.placeholder(tf.float32, shape=[None, n_inputs])"
   ]
  },
  {
   "cell_type": "code",
   "execution_count": 7,
   "metadata": {},
   "outputs": [],
   "source": [
    "initializer = tf.contrib.layers.variance_scaling_initializer()\n",
    "regularizer = tf.contrib.layers.l2_regularizer(l2_reg)\n",
    "activation = tf.nn.elu"
   ]
  },
  {
   "cell_type": "code",
   "execution_count": 8,
   "metadata": {},
   "outputs": [],
   "source": [
    "with tf.name_scope('nn'):\n",
    "    weight1_init = initializer([n_inputs, n_hidden1])\n",
    "    weight2_init = initializer([n_hidden1, n_hidden2])\n",
    "    \n",
    "    weight1 = tf.Variable(weight1_init, dtype=tf.float32, name='weight1')\n",
    "    weight2 = tf.Variable(weight2_init, dtype=tf.float32, name='weight2')\n",
    "    \n",
    "    weight3 = tf.transpose(weight2, name='weight3')\n",
    "    weight4 = tf.transpose(weight1, name='weight4')\n",
    "    \n",
    "    bias1 = tf.Variable(tf.zeros(n_hidden1), dtype=tf.float32, name='bias1')\n",
    "    bias2 = tf.Variable(tf.zeros(n_hidden2), dtype=tf.float32, name='bias2')\n",
    "    bias3 = tf.Variable(tf.zeros(n_hidden3), dtype=tf.float32, name='bias3')\n",
    "    bias4 = tf.Variable(tf.zeros(n_outputs), dtype=tf.float32, name='bias4')\n",
    "    \n",
    "    hidden1 = activation(tf.matmul(X, weight1) + bias1)\n",
    "    hidden2 = activation(tf.matmul(hidden1, weight2) + bias2)\n",
    "    hidden3 = activation(tf.matmul(hidden2, weight3) + bias3)\n",
    "    output = activation(tf.matmul(hidden3, weight4) + bias4)\n",
    "    \n",
    "    "
   ]
  },
  {
   "cell_type": "markdown",
   "metadata": {},
   "source": [
    "Construct the loss, including the base loss and regularization loss."
   ]
  },
  {
   "cell_type": "code",
   "execution_count": 9,
   "metadata": {},
   "outputs": [],
   "source": [
    "with tf.name_scope('loss'):\n",
    "    base_loss = tf.reduce_mean(tf.square(output-X))\n",
    "    reg_loss  = regularizer(weight1) + regularizer(weight2)\n",
    "    loss = base_loss + reg_loss"
   ]
  },
  {
   "cell_type": "markdown",
   "metadata": {},
   "source": [
    "Construct the training operation"
   ]
  },
  {
   "cell_type": "code",
   "execution_count": 10,
   "metadata": {},
   "outputs": [],
   "source": [
    "with tf.name_scope('training'):\n",
    "    optimizer = tf.train.AdamOptimizer(learning_rate=learning_rate)\n",
    "    training_op = optimizer.minimize(loss)"
   ]
  },
  {
   "cell_type": "markdown",
   "metadata": {},
   "source": [
    "Excecute the training by 5 epoches with batch size of 150. Save the model to mnist/autoencoder_tying_weight.ckpt"
   ]
  },
  {
   "cell_type": "code",
   "execution_count": 11,
   "metadata": {},
   "outputs": [
    {
     "name": "stdout",
     "output_type": "stream",
     "text": [
      "0 0.03571307\n",
      "1 0.03513201\n",
      "2 0.033766344\n",
      "3 0.034093555\n",
      "4 0.038636982\n"
     ]
    }
   ],
   "source": [
    "n_epoch = 5\n",
    "batch_size = 150\n",
    "init = tf.global_variables_initializer()\n",
    "saver = tf.train.Saver()\n",
    "\n",
    "with tf.Session() as sess:\n",
    "    sess.run(init)\n",
    "    n_batch = mnist.train.num_examples // batch_size\n",
    "    for epoch in range(n_epoch):\n",
    "        for iteration in range(n_batch):\n",
    "            X_batch, _ = mnist.train.next_batch(batch_size)\n",
    "            sess.run(training_op, feed_dict={X: X_batch})\n",
    "        loss_val = sess.run(loss, feed_dict={X: X_batch})\n",
    "        print(epoch, loss_val)\n",
    "    saver.save(sess, 'mnist/autoencoder_tying_weight.ckpt')"
   ]
  },
  {
   "cell_type": "markdown",
   "metadata": {},
   "source": [
    "In another session, restore the variables from the saved file. Then predict the output at the first two test image"
   ]
  },
  {
   "cell_type": "code",
   "execution_count": 12,
   "metadata": {},
   "outputs": [
    {
     "name": "stdout",
     "output_type": "stream",
     "text": [
      "INFO:tensorflow:Restoring parameters from mnist/autoencoder_tying_weight.ckpt\n"
     ]
    }
   ],
   "source": [
    "with tf.Session() as sess:\n",
    "    saver.restore(sess, 'mnist/autoencoder_tying_weight.ckpt')\n",
    "    X_test = mnist.test.images[:2]\n",
    "    outputs_val = output.eval(feed_dict={X: X_test})"
   ]
  },
  {
   "cell_type": "markdown",
   "metadata": {},
   "source": [
    "Visualize the first two test images. To compare, also visualize their predictions."
   ]
  },
  {
   "cell_type": "code",
   "execution_count": 13,
   "metadata": {},
   "outputs": [
    {
     "data": {
      "text/plain": [
       "<matplotlib.image.AxesImage at 0x7f4a9a5482b0>"
      ]
     },
     "execution_count": 13,
     "metadata": {},
     "output_type": "execute_result"
    },
    {
     "data": {
      "image/png": "[encoded data removed]",
      "text/plain": [
       "<matplotlib.figure.Figure at 0x7f4a9deaacf8>"
      ]
     },
     "metadata": {},
     "output_type": "display_data"
    }
   ],
   "source": [
    "fig, axes = plt.subplots(2, 2)\n",
    "axes[0, 0].imshow(mnist.test.images[0].reshape(-1, 28), cmap='gray')\n",
    "axes[0, 1].imshow(mnist.test.images[1].reshape(-1, 28), cmap='gray')\n",
    "axes[1, 0].imshow(outputs_val[0].reshape(-1, 28), cmap='gray')\n",
    "axes[1, 1].imshow(outputs_val[1].reshape(-1, 28), cmap='gray')"
   ]
  },
  {
   "cell_type": "code",
   "execution_count": null,
   "metadata": {},
   "outputs": [],
   "source": []
  }
 ],
 "metadata": {
  "kernelspec": {
   "display_name": "Python 3",
   "language": "python",
   "name": "python3"
  },
  "language_info": {
   "codemirror_mode": {
    "name": "ipython",
    "version": 3
   },
   "file_extension": ".py",
   "mimetype": "text/x-python",
   "name": "python",
   "nbconvert_exporter": "python",
   "pygments_lexer": "ipython3",
   "version": "3.5.2"
  }
 },
 "nbformat": 4,
 "nbformat_minor": 2
}
