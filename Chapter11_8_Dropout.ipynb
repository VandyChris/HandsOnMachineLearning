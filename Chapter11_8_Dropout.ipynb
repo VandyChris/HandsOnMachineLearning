{
 "cells": [
  {
   "cell_type": "markdown",
   "metadata": {},
   "source": [
    "Import tensorflow"
   ]
  },
  {
   "cell_type": "code",
   "execution_count": 4,
   "metadata": {
    "collapsed": true
   },
   "outputs": [],
   "source": [
    "import tensorflow as tf"
   ]
  },
  {
   "cell_type": "markdown",
   "metadata": {},
   "source": [
    "Reset deafault graph"
   ]
  },
  {
   "cell_type": "code",
   "execution_count": 5,
   "metadata": {
    "collapsed": true
   },
   "outputs": [],
   "source": [
    "tf.reset_default_graph()"
   ]
  },
  {
   "cell_type": "markdown",
   "metadata": {},
   "source": [
    "Load mnist data"
   ]
  },
  {
   "cell_type": "code",
   "execution_count": 6,
   "metadata": {},
   "outputs": [],
   "source": [
    "from tensorflow.examples.tutorials.mnist import input_data"
   ]
  },
  {
   "cell_type": "code",
   "execution_count": 7,
   "metadata": {},
   "outputs": [
    {
     "name": "stdout",
     "output_type": "stream",
     "text": [
      "Extracting datasets/minst/train-images-idx3-ubyte.gz\n",
      "Extracting datasets/minst/train-labels-idx1-ubyte.gz\n",
      "Extracting datasets/minst/t10k-images-idx3-ubyte.gz\n",
      "Extracting datasets/minst/t10k-labels-idx1-ubyte.gz\n"
     ]
    }
   ],
   "source": [
    "mnist = input_data.read_data_sets('datasets/minst/')"
   ]
  },
  {
   "cell_type": "code",
   "execution_count": 8,
   "metadata": {
    "collapsed": true
   },
   "outputs": [],
   "source": [
    "X_val = mnist.validation.images\n",
    "y_val = mnist.validation.labels"
   ]
  },
  {
   "cell_type": "markdown",
   "metadata": {},
   "source": [
    "Define a NN of two hidden layers with Relu. 1st hidden layer has 300 neurons, and 2nd hidden layer has 50 neurons. Add dropout layer after each hidden layer."
   ]
  },
  {
   "cell_type": "code",
   "execution_count": 9,
   "metadata": {
    "collapsed": true
   },
   "outputs": [],
   "source": [
    "n_input = 28**2\n",
    "n_hidden1 = 300\n",
    "n_hidden2 = 50\n",
    "n_output = 10\n",
    "dropout_rate = 0.5"
   ]
  },
  {
   "cell_type": "code",
   "execution_count": 10,
   "metadata": {
    "collapsed": true
   },
   "outputs": [],
   "source": [
    "X = tf.placeholder(dtype=tf.float32, shape=(None, n_input), name='X')\n",
    "y = tf.placeholder(dtype=tf.int32, shape=(None,), name='y')"
   ]
  },
  {
   "cell_type": "code",
   "execution_count": 11,
   "metadata": {
    "collapsed": true
   },
   "outputs": [],
   "source": [
    "training = tf.Variable(initial_value=False, trainable=False)"
   ]
  },
  {
   "cell_type": "code",
   "execution_count": 12,
   "metadata": {
    "collapsed": true
   },
   "outputs": [],
   "source": [
    "with tf.name_scope('dnn'):\n",
    "    hidden1 = tf.layers.dense(X, n_hidden1, activation=tf.nn.relu, name='hidden1')\n",
    "    hidden1_dropout = tf.layers.dropout(hidden1, rate=dropout_rate, training=training)\n",
    "    hidden2 = tf.layers.dense(hidden1, n_hidden2, activation=tf.nn.relu, name='hidden2')\n",
    "    hidden2_dropout = tf.layers.dropout(hidden2, rate=dropout_rate, training=training)\n",
    "    logits = tf.layers.dense(hidden2, n_output, activation=None, name='logits')"
   ]
  },
  {
   "cell_type": "code",
   "execution_count": 13,
   "metadata": {
    "collapsed": true
   },
   "outputs": [],
   "source": [
    "with tf.name_scope('loss'):\n",
    "    entropy = tf.nn.sparse_softmax_cross_entropy_with_logits(logits=logits, labels=y)\n",
    "    loss = tf.reduce_mean(entropy, name='loss')"
   ]
  },
  {
   "cell_type": "code",
   "execution_count": 14,
   "metadata": {
    "collapsed": true
   },
   "outputs": [],
   "source": [
    "with tf.name_scope('train'):\n",
    "    opt = tf.train.MomentumOptimizer(learning_rate=0.01, momentum=0.9)\n",
    "    train_op = opt.minimize(loss, name='train_op')"
   ]
  },
  {
   "cell_type": "code",
   "execution_count": 15,
   "metadata": {
    "collapsed": true
   },
   "outputs": [],
   "source": [
    "with tf.name_scope('eval'):\n",
    "    correct = tf.nn.in_top_k(predictions=logits, targets=y, k=1)\n",
    "    accuracy = tf.reduce_mean(tf.cast(correct, tf.float32), name='accuracy')\n",
    "    accuracy_sum = tf.summary.scalar('accuracy', accuracy)"
   ]
  },
  {
   "cell_type": "code",
   "execution_count": 16,
   "metadata": {
    "collapsed": true
   },
   "outputs": [],
   "source": [
    "init = tf.global_variables_initializer()"
   ]
  },
  {
   "cell_type": "code",
   "execution_count": 17,
   "metadata": {
    "collapsed": true
   },
   "outputs": [],
   "source": [
    "file_writer_train = tf.summary.FileWriter('logs/dropout/train')\n",
    "file_writer_val = tf.summary.FileWriter('logs/dropout/val')"
   ]
  },
  {
   "cell_type": "code",
   "execution_count": 18,
   "metadata": {
    "collapsed": true
   },
   "outputs": [],
   "source": [
    "n_epoch = 20\n",
    "batch_size = 50\n",
    "n_step = mnist.train.num_examples // batch_size"
   ]
  },
  {
   "cell_type": "code",
   "execution_count": 19,
   "metadata": {},
   "outputs": [
    {
     "name": "stdout",
     "output_type": "stream",
     "text": [
      "Epoch: 0, training accuracy: 0.9576, validation accuracy: 0.9610\n",
      "Epoch: 1, training accuracy: 0.9742, validation accuracy: 0.9700\n",
      "Epoch: 2, training accuracy: 0.9759, validation accuracy: 0.9740\n",
      "Epoch: 3, training accuracy: 0.9867, validation accuracy: 0.9790\n",
      "Epoch: 4, training accuracy: 0.9899, validation accuracy: 0.9794\n",
      "Epoch: 5, training accuracy: 0.9915, validation accuracy: 0.9810\n",
      "Epoch: 6, training accuracy: 0.9912, validation accuracy: 0.9790\n",
      "Epoch: 7, training accuracy: 0.9960, validation accuracy: 0.9810\n",
      "Epoch: 8, training accuracy: 0.9965, validation accuracy: 0.9818\n",
      "Epoch: 9, training accuracy: 0.9981, validation accuracy: 0.9824\n",
      "Epoch: 10, training accuracy: 0.9989, validation accuracy: 0.9822\n",
      "Epoch: 11, training accuracy: 0.9994, validation accuracy: 0.9834\n",
      "Epoch: 12, training accuracy: 0.9996, validation accuracy: 0.9822\n",
      "Epoch: 13, training accuracy: 0.9996, validation accuracy: 0.9826\n",
      "Epoch: 14, training accuracy: 0.9999, validation accuracy: 0.9828\n",
      "Epoch: 15, training accuracy: 1.0000, validation accuracy: 0.9828\n",
      "Epoch: 16, training accuracy: 1.0000, validation accuracy: 0.9842\n",
      "Epoch: 17, training accuracy: 1.0000, validation accuracy: 0.9828\n",
      "Epoch: 18, training accuracy: 1.0000, validation accuracy: 0.9830\n",
      "Epoch: 19, training accuracy: 1.0000, validation accuracy: 0.9830\n"
     ]
    }
   ],
   "source": [
    "with tf.Session() as sess:\n",
    "    sess.run(init)\n",
    "    for epoch in range(n_epoch):\n",
    "        for step in range(n_step):\n",
    "            X_batch, y_batch = mnist.train.next_batch(batch_size)\n",
    "            sess.run(train_op, feed_dict = {X: X_batch, y: y_batch, training:True})\n",
    "        accuracy_val, accuracy_val_sum = sess.run([accuracy, accuracy_sum], feed_dict={X: mnist.validation.images, y: mnist.validation.labels})\n",
    "        accuracy_train, accuracy_train_sum = sess.run([accuracy, accuracy_sum], feed_dict={X:mnist.train.images, y:mnist.train.labels})\n",
    "        global_step = n_step*(epoch+1)\n",
    "        file_writer_train.add_summary(accuracy_train_sum, global_step=global_step)\n",
    "        file_writer_val.add_summary(accuracy_val_sum, global_step=global_step)\n",
    "        print('Epoch: {}, training accuracy: {:.4f}, validation accuracy: {:.4f}'.format(epoch, accuracy_train, accuracy_val))\n",
    "    \n",
    "    file_writer_train.close()\n",
    "    file_writer_val.close()"
   ]
  }
 ],
 "metadata": {
  "kernelspec": {
   "display_name": "Python 3",
   "language": "python",
   "name": "python3"
  },
  "language_info": {
   "codemirror_mode": {
    "name": "ipython",
    "version": 3
   },
   "file_extension": ".py",
   "mimetype": "text/x-python",
   "name": "python",
   "nbconvert_exporter": "python",
   "pygments_lexer": "ipython3",
   "version": "3.6.1"
  }
 },
 "nbformat": 4,
 "nbformat_minor": 2
}
