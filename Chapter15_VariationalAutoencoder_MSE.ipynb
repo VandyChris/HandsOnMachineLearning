{
 "cells": [
  {
   "cell_type": "code",
   "execution_count": 1,
   "metadata": {
    "collapsed": true
   },
   "outputs": [],
   "source": [
    "import tensorflow as tf\n",
    "import numpy as np\n",
    "from functools import partial\n",
    "import matplotlib.pyplot as plt\n",
    "%matplotlib inline"
   ]
  },
  {
   "cell_type": "markdown",
   "metadata": {},
   "source": [
    "Load MNIST data"
   ]
  },
  {
   "cell_type": "code",
   "execution_count": 2,
   "metadata": {},
   "outputs": [
    {
     "name": "stdout",
     "output_type": "stream",
     "text": [
      "Extracting datasets/mnist\\train-images-idx3-ubyte.gz\n",
      "Extracting datasets/mnist\\train-labels-idx1-ubyte.gz\n",
      "Extracting datasets/mnist\\t10k-images-idx3-ubyte.gz\n",
      "Extracting datasets/mnist\\t10k-labels-idx1-ubyte.gz\n"
     ]
    }
   ],
   "source": [
    "#\n",
    "from tensorflow.examples.tutorials.mnist import input_data\n",
    "mnist = input_data.read_data_sets('datasets/mnist')"
   ]
  },
  {
   "cell_type": "markdown",
   "metadata": {},
   "source": [
    "Some settings"
   ]
  },
  {
   "cell_type": "code",
   "execution_count": 3,
   "metadata": {
    "collapsed": true
   },
   "outputs": [],
   "source": [
    "#\n",
    "n_inputs = 28 * 28\n",
    "n_hidden1 = 500\n",
    "n_hidden2 = 500\n",
    "n_hidden3 = 20 # codings \n",
    "n_hidden4 = n_hidden2 \n",
    "n_hidden5 = n_hidden1 \n",
    "n_outputs = n_inputs \n",
    "learning_rate = 0.001"
   ]
  },
  {
   "cell_type": "markdown",
   "metadata": {},
   "source": [
    "Construct the architecture of the variational autoencoder"
   ]
  },
  {
   "cell_type": "code",
   "execution_count": 4,
   "metadata": {
    "collapsed": true
   },
   "outputs": [],
   "source": [
    "tf.reset_default_graph()"
   ]
  },
  {
   "cell_type": "code",
   "execution_count": 5,
   "metadata": {
    "collapsed": true
   },
   "outputs": [],
   "source": [
    "initializer = tf.contrib.layers.variance_scaling_initializer()\n",
    "my_dense_layer = partial(tf.layers.dense, activation=tf.nn.elu,\n",
    "                        kernel_initializer=initializer)"
   ]
  },
  {
   "cell_type": "code",
   "execution_count": 6,
   "metadata": {
    "collapsed": true
   },
   "outputs": [],
   "source": [
    "X = tf.placeholder(dtype=tf.float32, shape=[None, n_inputs])"
   ]
  },
  {
   "cell_type": "code",
   "execution_count": 7,
   "metadata": {
    "collapsed": true
   },
   "outputs": [],
   "source": [
    "with tf.name_scope('NN'):\n",
    "    hidden1 = my_dense_layer(X, n_hidden1)\n",
    "    hidden2 = my_dense_layer(hidden1, n_hidden2)\n",
    "    hidden3_mean = my_dense_layer(hidden2, n_hidden3, activation=None)\n",
    "    hidden3_gamma = my_dense_layer(hidden2, n_hidden3, activation=None)\n",
    "    noise = tf.random_normal(tf.shape(hidden3_gamma), dtype=tf.float32)\n",
    "    # hidden3 = N(hidden3_mean, sigma**2), where sigma = exp(gamma/2)\n",
    "    hidden3 = hidden3_mean + tf.exp(0.5 * hidden3_gamma) * noise\n",
    "    hidden4 = my_dense_layer(hidden3, n_hidden4)\n",
    "    hidden5 = my_dense_layer(hidden4, n_hidden5)\n",
    "    logits = my_dense_layer(hidden5, n_outputs, activation=None)\n",
    "    outputs = tf.nn.sigmoid(logits)"
   ]
  },
  {
   "cell_type": "markdown",
   "metadata": {},
   "source": [
    "Define the loss function"
   ]
  },
  {
   "cell_type": "markdown",
   "metadata": {},
   "source": [
    "The reconstruction loss is squared error or entropy. Don't average over input dimension.\n",
    "\n",
    "For the $i$-th data point, the latent loss is\n",
    "$L_i = 0.5 \\times \\sum_{j=1}^D (\\mu_j^2 + \\sigma_j^2 - \\log(\\sigma_j^2) -1) $ where D is the dimension of the coding layer, and D=20 in this example. Based on $\\sigma^2 = \\exp{(\\gamma)}$, we have\n",
    "\n",
    "$L_i = 0.5 \\times \\sum_{j=1}^D (\\mu_j^2 + \\exp(\\gamma_j) - \\gamma_j -1) $\n",
    "\n",
    "Then the total latent error is $L=\\sum_{i=1}^m L_i$ where m is the number of data points. {Don't average over coding dimension.}"
   ]
  },
  {
   "cell_type": "code",
   "execution_count": 8,
   "metadata": {},
   "outputs": [
    {
     "data": {
      "text/plain": [
       "TensorShape([Dimension(None), Dimension(784)])"
      ]
     },
     "execution_count": 8,
     "metadata": {},
     "output_type": "execute_result"
    }
   ],
   "source": [
    "logits.shape"
   ]
  },
  {
   "cell_type": "code",
   "execution_count": 9,
   "metadata": {},
   "outputs": [
    {
     "data": {
      "text/plain": [
       "TensorShape([Dimension(None), Dimension(784)])"
      ]
     },
     "execution_count": 9,
     "metadata": {},
     "output_type": "execute_result"
    }
   ],
   "source": [
    "X.shape"
   ]
  },
  {
   "cell_type": "code",
   "execution_count": 10,
   "metadata": {},
   "outputs": [],
   "source": [
    "with tf.name_scope('loss'):\n",
    "    # the reconstruction error\n",
    "    mse = tf.reduce_sum(tf.square(X-outputs))\n",
    "    reconstruction_loss = tf.reduce_sum(mse) # sum, not mean\n",
    "\n",
    "    # the latent loss (K-L divergence)\n",
    "    latent_loss = 0.5 * tf.reduce_sum(tf.exp(hidden3_gamma) \n",
    "                                      + tf.square(hidden3_mean)\n",
    "                                      - 1 - hidden3_gamma)\n",
    "\n",
    "    # the total loss\n",
    "    loss = reconstruction_loss + latent_loss"
   ]
  },
  {
   "cell_type": "markdown",
   "metadata": {},
   "source": [
    "Define optimizer"
   ]
  },
  {
   "cell_type": "code",
   "execution_count": 11,
   "metadata": {
    "collapsed": true
   },
   "outputs": [],
   "source": [
    "with tf.name_scope('train'):\n",
    "    optimizer = tf.train.AdamOptimizer()\n",
    "    train_op = optimizer.minimize(loss)"
   ]
  },
  {
   "cell_type": "markdown",
   "metadata": {},
   "source": [
    "Training"
   ]
  },
  {
   "cell_type": "code",
   "execution_count": 12,
   "metadata": {
    "collapsed": true
   },
   "outputs": [],
   "source": [
    "init = tf.global_variables_initializer()\n",
    "saver = tf.train.Saver()\n",
    "\n",
    "n_epoch = 50\n",
    "batch_size = 150\n",
    "n_batch = mnist.train.num_examples // batch_size\n",
    "n_digits = 60"
   ]
  },
  {
   "cell_type": "code",
   "execution_count": 13,
   "metadata": {},
   "outputs": [
    {
     "name": "stdout",
     "output_type": "stream",
     "text": [
      "Epoch: 1, validation error: 1970436.0000\n",
      "Epoch: 2, validation error: 1847070.2500\n",
      "Epoch: 3, validation error: 1795961.2500\n",
      "Epoch: 4, validation error: 1762748.2500\n",
      "Epoch: 5, validation error: 1731203.8750\n",
      "Epoch: 6, validation error: 1721958.7500\n",
      "Epoch: 7, validation error: 1700653.2500\n",
      "Epoch: 8, validation error: 1704675.0000\n",
      "Epoch: 9, validation error: 1669895.3750\n",
      "Epoch: 10, validation error: 1664091.7500\n",
      "Epoch: 11, validation error: 1659880.3750\n",
      "Epoch: 12, validation error: 1638882.1250\n",
      "Epoch: 13, validation error: 1629675.2500\n",
      "Epoch: 14, validation error: 1637407.1250\n",
      "Epoch: 15, validation error: 1623804.2500\n",
      "Epoch: 16, validation error: 1620062.7500\n",
      "Epoch: 17, validation error: 1604370.3750\n",
      "Epoch: 18, validation error: 1608911.5000\n",
      "Epoch: 19, validation error: 1605160.6250\n",
      "Epoch: 20, validation error: 1593472.2500\n",
      "Epoch: 21, validation error: 1588415.7500\n",
      "Epoch: 22, validation error: 1585618.8750\n",
      "Epoch: 23, validation error: 1593699.5000\n",
      "Epoch: 24, validation error: 1584259.0000\n",
      "Epoch: 25, validation error: 1572164.7500\n",
      "Epoch: 26, validation error: 1574017.3750\n",
      "Epoch: 27, validation error: 1572073.2500\n",
      "Epoch: 28, validation error: 1568713.8750\n",
      "Epoch: 29, validation error: 1558941.7500\n",
      "Epoch: 30, validation error: 1573204.2500\n",
      "Epoch: 31, validation error: 1565902.2500\n",
      "Epoch: 32, validation error: 1545899.7500\n",
      "Epoch: 33, validation error: 1572915.7500\n",
      "Epoch: 34, validation error: 1548684.0000\n",
      "Epoch: 35, validation error: 1560969.7500\n",
      "Epoch: 36, validation error: 1544373.2500\n",
      "Epoch: 37, validation error: 1543335.2500\n",
      "Epoch: 38, validation error: 1546025.0000\n",
      "Epoch: 39, validation error: 1535891.5000\n",
      "Epoch: 40, validation error: 1534465.3750\n",
      "Epoch: 41, validation error: 1541974.8750\n",
      "Epoch: 42, validation error: 1541174.5000\n",
      "Epoch: 43, validation error: 1536373.0000\n",
      "Epoch: 44, validation error: 1530060.6250\n",
      "Epoch: 45, validation error: 1538176.8750\n",
      "Epoch: 46, validation error: 1524717.7500\n",
      "Epoch: 47, validation error: 1516228.0000\n",
      "Epoch: 48, validation error: 1530506.5000\n",
      "Epoch: 49, validation error: 1522505.2500\n",
      "Epoch: 50, validation error: 1541199.6250\n"
     ]
    }
   ],
   "source": [
    "with tf.Session() as sess:\n",
    "    sess.run(init)\n",
    "    \n",
    "    for epoch in range(n_epoch):\n",
    "        for batch in range(n_batch):\n",
    "            X_batch, y_batch = mnist.train.next_batch(batch_size)\n",
    "            sess.run(train_op, feed_dict={X: X_batch})\n",
    "        loss_val = sess.run(loss, feed_dict={X: mnist.train.images})\n",
    "        print('Epoch: {}, validation error: {:.4f}'.format(epoch+1, loss_val))\n",
    "    \n",
    "    saver.save(sess, 'tmp/VAE_mse.ckpt')"
   ]
  },
  {
   "cell_type": "code",
   "execution_count": 14,
   "metadata": {},
   "outputs": [
    {
     "name": "stdout",
     "output_type": "stream",
     "text": [
      "INFO:tensorflow:Restoring parameters from tmp/VAE_mse.ckpt\n"
     ]
    }
   ],
   "source": [
    "with tf.Session() as sess:\n",
    "    saver.restore(sess, 'tmp/VAE_mse.ckpt')\n",
    "    codings_rnd = np.random.normal(size=[n_digits, n_hidden3])\n",
    "    output_val = sess.run(outputs, feed_dict={hidden3: codings_rnd})"
   ]
  },
  {
   "cell_type": "markdown",
   "metadata": {},
   "source": [
    "Visualize generated digits"
   ]
  },
  {
   "cell_type": "code",
   "execution_count": 15,
   "metadata": {},
   "outputs": [
    {
     "data": {
      "image/png": "[encoded data removed]",
      "text/plain": [
       "<matplotlib.figure.Figure at 0x21a602963c8>"
      ]
     },
     "metadata": {},
     "output_type": "display_data"
    }
   ],
   "source": [
    "fig, axes = plt.subplots(6, 10, figsize=(10, 6))\n",
    "axes_flat = axes.ravel()\n",
    "for i in range(n_digits):\n",
    "    axes_flat[i].imshow(output_val[i].reshape((28, -1)), cmap='gray')\n",
    "    axes_flat[i].get_xaxis().set_visible(False)\n",
    "    axes_flat[i].get_yaxis().set_visible(False)"
   ]
  }
 ],
 "metadata": {
  "kernelspec": {
   "display_name": "Python 3",
   "language": "python",
   "name": "python3"
  },
  "language_info": {
   "codemirror_mode": {
    "name": "ipython",
    "version": 3
   },
   "file_extension": ".py",
   "mimetype": "text/x-python",
   "name": "python",
   "nbconvert_exporter": "python",
   "pygments_lexer": "ipython3",
   "version": "3.6.1"
  }
 },
 "nbformat": 4,
 "nbformat_minor": 2
}
