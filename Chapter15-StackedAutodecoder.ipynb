{
 "cells": [
  {
   "cell_type": "markdown",
   "metadata": {},
   "source": [
    "Import packages"
   ]
  },
  {
   "cell_type": "code",
   "execution_count": 1,
   "metadata": {
    "collapsed": true
   },
   "outputs": [],
   "source": [
    "#\n",
    "import tensorflow as tf\n",
    "import numpy as np\n",
    "import matplotlib.pyplot as plt\n",
    "%matplotlib inline"
   ]
  },
  {
   "cell_type": "markdown",
   "metadata": {},
   "source": [
    "Reset graph"
   ]
  },
  {
   "cell_type": "code",
   "execution_count": 2,
   "metadata": {
    "collapsed": true
   },
   "outputs": [],
   "source": [
    "tf.reset_default_graph()"
   ]
  },
  {
   "cell_type": "markdown",
   "metadata": {},
   "source": [
    "# Stacked Autoencoder"
   ]
  },
  {
   "cell_type": "markdown",
   "metadata": {},
   "source": [
    "Import MNIST data"
   ]
  },
  {
   "cell_type": "code",
   "execution_count": 3,
   "metadata": {},
   "outputs": [
    {
     "name": "stdout",
     "output_type": "stream",
     "text": [
      "Extracting datasets\\mnist\\train-images-idx3-ubyte.gz\n",
      "Extracting datasets\\mnist\\train-labels-idx1-ubyte.gz\n",
      "Extracting datasets\\mnist\\t10k-images-idx3-ubyte.gz\n",
      "Extracting datasets\\mnist\\t10k-labels-idx1-ubyte.gz\n"
     ]
    }
   ],
   "source": [
    "#\n",
    "from tensorflow.examples.tutorials.mnist import input_data\n",
    "mnist = input_data.read_data_sets('datasets\\mnist')"
   ]
  },
  {
   "cell_type": "code",
   "execution_count": 4,
   "metadata": {},
   "outputs": [
    {
     "data": {
      "text/plain": [
       "array([ 0.,  0.,  0., ...,  0.,  0.,  0.], dtype=float32)"
      ]
     },
     "execution_count": 4,
     "metadata": {},
     "output_type": "execute_result"
    }
   ],
   "source": [
    "mnist.train.images.min(axis=1)"
   ]
  },
  {
   "cell_type": "markdown",
   "metadata": {},
   "source": [
    "Some settings"
   ]
  },
  {
   "cell_type": "code",
   "execution_count": 5,
   "metadata": {
    "collapsed": true
   },
   "outputs": [],
   "source": [
    "#\n",
    "n_inputs = 28*28\n",
    "n_hidden1 = 300\n",
    "n_hidden2 = 150\n",
    "n_hidden3 = 300\n",
    "n_outputs = n_inputs\n",
    "l2_reg = 0.0001"
   ]
  },
  {
   "cell_type": "markdown",
   "metadata": {},
   "source": [
    "Build a stacked autoencoder that:\n",
    "1. Three hidden layers\n",
    "2. Use He initializer\n",
    "3. Use ELU activation function\n",
    "4. Use L2 regularization\n",
    "5. Use partial function to make the code concise\n",
    "6. Train autoencoder by 5 epoches with batch size of 150. \n",
    "7. Print out the training and validation loss after each epoch\n",
    "8. Save the final model to tmp/autoencoder_stacked.ckpt\n",
    "9. Visualize the training and validation error by TensorBoard\n",
    "\n",
    "Not that the input data is already scalled to [0, 1]. So, you can use regularization directly. You can also try other strategies to preprocess the data. For example, standardize the data to N(0, 1) or scale the data to [-1, 1]"
   ]
  },
  {
   "cell_type": "code",
   "execution_count": 6,
   "metadata": {
    "collapsed": true
   },
   "outputs": [],
   "source": [
    "from functools import partial"
   ]
  },
  {
   "cell_type": "code",
   "execution_count": 7,
   "metadata": {},
   "outputs": [],
   "source": [
    "he_initializer = tf.contrib.layers.variance_scaling_initializer()\n",
    "L2_regularizer = tf.contrib.layers.l2_regularizer(scale=l2_reg)"
   ]
  },
  {
   "cell_type": "code",
   "execution_count": 8,
   "metadata": {},
   "outputs": [],
   "source": [
    "my_layer = partial(tf.layers.dense, activation=tf.nn.elu, kernel_initializer=he_initializer, kernel_regularizer=L2_regularizer)"
   ]
  },
  {
   "cell_type": "code",
   "execution_count": 9,
   "metadata": {
    "collapsed": true
   },
   "outputs": [],
   "source": [
    "X = tf.placeholder(dtype=tf.float32, shape=(None, 28*28), name='X')"
   ]
  },
  {
   "cell_type": "code",
   "execution_count": 10,
   "metadata": {
    "collapsed": true
   },
   "outputs": [],
   "source": [
    "with tf.name_scope('NN'):\n",
    "    hidden1 = my_layer(X, n_hidden1)\n",
    "    encoder = my_layer(hidden1, n_hidden2)\n",
    "    hidden3 = my_layer(encoder, n_hidden3)\n",
    "    output = tf.layers.dense(hidden3, n_outputs, activation=None)"
   ]
  },
  {
   "cell_type": "code",
   "execution_count": 11,
   "metadata": {},
   "outputs": [],
   "source": [
    "with tf.name_scope('loss'):\n",
    "    mse = tf.reduce_mean(tf.square(X-output), name='mse')\n",
    "    reg_loss = tf.get_collection(tf.GraphKeys.REGULARIZATION_LOSSES)\n",
    "    loss = tf.add_n([mse]+reg_loss, name='loss')\n",
    "    loss_sum = tf.summary.scalar(name='loss', tensor=loss)"
   ]
  },
  {
   "cell_type": "code",
   "execution_count": 12,
   "metadata": {
    "collapsed": true
   },
   "outputs": [],
   "source": [
    "with tf.name_scope('train'):\n",
    "    optimizer = tf.train.AdamOptimizer()\n",
    "    train_op = optimizer.minimize(loss)"
   ]
  },
  {
   "cell_type": "code",
   "execution_count": 13,
   "metadata": {
    "collapsed": true
   },
   "outputs": [],
   "source": [
    "init = tf.global_variables_initializer()"
   ]
  },
  {
   "cell_type": "code",
   "execution_count": 14,
   "metadata": {
    "collapsed": true
   },
   "outputs": [],
   "source": [
    "n_epoch = 40\n",
    "batch_size = 150\n",
    "n_step = mnist.train.num_examples // batch_size"
   ]
  },
  {
   "cell_type": "code",
   "execution_count": 15,
   "metadata": {
    "collapsed": true
   },
   "outputs": [],
   "source": [
    "saver = tf.train.Saver()\n",
    "train_file_writer = tf.summary.FileWriter(\n",
    "    logdir='logs/autoencoder_stacked/tain', graph=tf.get_default_graph())\n",
    "validation_file_writer = tf.summary.FileWriter(\n",
    "    logdir='logs/autoencoder_stacked/validation', graph=tf.get_default_graph())"
   ]
  },
  {
   "cell_type": "code",
   "execution_count": 16,
   "metadata": {},
   "outputs": [
    {
     "name": "stdout",
     "output_type": "stream",
     "text": [
      "Epoch: 0, training error: 0.03063550591468811, validation error: 0.030775021761655807\n",
      "Epoch: 1, training error: 0.01805840991437435, validation error: 0.018131786957383156\n",
      "Epoch: 2, training error: 0.014898489229381084, validation error: 0.014954058453440666\n",
      "Epoch: 3, training error: 0.013650224544107914, validation error: 0.013692894019186497\n",
      "Epoch: 4, training error: 0.012905944138765335, validation error: 0.01294369250535965\n",
      "Epoch: 5, training error: 0.012455837801098824, validation error: 0.012493716552853584\n",
      "Epoch: 6, training error: 0.012105235829949379, validation error: 0.012141624465584755\n",
      "Epoch: 7, training error: 0.011830925941467285, validation error: 0.011868649162352085\n",
      "Epoch: 8, training error: 0.011564189568161964, validation error: 0.011600840836763382\n",
      "Epoch: 9, training error: 0.011368379928171635, validation error: 0.011406178586184978\n",
      "Epoch: 10, training error: 0.0111741553992033, validation error: 0.01120991725474596\n",
      "Epoch: 11, training error: 0.011047405190765858, validation error: 0.011085741221904755\n",
      "Epoch: 12, training error: 0.010863704606890678, validation error: 0.010897234082221985\n",
      "Epoch: 13, training error: 0.010713803581893444, validation error: 0.01075126975774765\n",
      "Epoch: 14, training error: 0.010611450299620628, validation error: 0.010647635906934738\n",
      "Epoch: 15, training error: 0.010451864451169968, validation error: 0.010484631173312664\n",
      "Epoch: 16, training error: 0.010347685776650906, validation error: 0.010382997803390026\n",
      "Epoch: 17, training error: 0.010247353464365005, validation error: 0.010278373956680298\n",
      "Epoch: 18, training error: 0.010191153734922409, validation error: 0.01022858452051878\n",
      "Epoch: 19, training error: 0.01005613524466753, validation error: 0.01009208895266056\n",
      "Epoch: 20, training error: 0.010094638913869858, validation error: 0.010131875984370708\n",
      "Epoch: 21, training error: 0.009918342344462872, validation error: 0.009953049942851067\n",
      "Epoch: 22, training error: 0.009885084815323353, validation error: 0.009924127720296383\n",
      "Epoch: 23, training error: 0.009785637259483337, validation error: 0.00982123427093029\n",
      "Epoch: 24, training error: 0.009719643741846085, validation error: 0.009754077531397343\n",
      "Epoch: 25, training error: 0.010226089507341385, validation error: 0.010262716561555862\n",
      "Epoch: 26, training error: 0.009780853055417538, validation error: 0.009813926182687283\n",
      "Epoch: 27, training error: 0.009649182669818401, validation error: 0.009684229269623756\n",
      "Epoch: 28, training error: 0.009585055522620678, validation error: 0.009620447643101215\n",
      "Epoch: 29, training error: 0.00956733152270317, validation error: 0.009602988138794899\n",
      "Epoch: 30, training error: 0.009545929729938507, validation error: 0.009580538608133793\n",
      "Epoch: 31, training error: 0.009512671269476414, validation error: 0.009548572823405266\n",
      "Epoch: 32, training error: 0.009498640894889832, validation error: 0.009532115422189236\n",
      "Epoch: 33, training error: 0.009454707615077496, validation error: 0.009488297626376152\n",
      "Epoch: 34, training error: 0.009438036009669304, validation error: 0.009472687728703022\n",
      "Epoch: 35, training error: 0.009385685436427593, validation error: 0.00941867008805275\n",
      "Epoch: 36, training error: 0.009347515180706978, validation error: 0.009381064213812351\n",
      "Epoch: 37, training error: 0.009355693124234676, validation error: 0.009394264779984951\n",
      "Epoch: 38, training error: 0.009325310587882996, validation error: 0.009360143914818764\n",
      "Epoch: 39, training error: 0.009231477975845337, validation error: 0.009264933876693249\n"
     ]
    }
   ],
   "source": [
    "with tf.Session() as sess:\n",
    "    sess.run(init)\n",
    "    for epoch in range(n_epoch):\n",
    "        for step in range(n_step):\n",
    "            X_batch, _ = mnist.train.next_batch(batch_size)\n",
    "            sess.run(train_op, feed_dict={X: X_batch})\n",
    "        [train_loss, train_loss_sum] = \\\n",
    "            sess.run([loss, loss_sum], feed_dict={X: mnist.train.images})\n",
    "        [validation_loss, validation_loss_sum] = \\\n",
    "            sess.run([loss, loss_sum], feed_dict={X: mnist.validation.images})\n",
    "        global_step = n_step * (epoch+1)\n",
    "        train_file_writer.add_summary(train_loss_sum, global_step=global_step)\n",
    "        validation_file_writer.add_summary(validation_loss_sum, global_step=global_step)\n",
    "        print('Epoch: {}, training error: {}, validation error: {}'.format(epoch, train_loss, validation_loss))\n",
    "    train_file_writer.close()\n",
    "    validation_file_writer.close()\n",
    "    \n",
    "    saver.save(sess, 'tmp/autoencoder_stacked.ckpt')"
   ]
  },
  {
   "cell_type": "markdown",
   "metadata": {},
   "source": [
    "In another session, predict the output at the first two test image"
   ]
  },
  {
   "cell_type": "code",
   "execution_count": 17,
   "metadata": {},
   "outputs": [
    {
     "name": "stdout",
     "output_type": "stream",
     "text": [
      "INFO:tensorflow:Restoring parameters from tmp/autoencoder_stacked.ckpt\n"
     ]
    }
   ],
   "source": [
    "with tf.Session() as sess:\n",
    "    saver.restore(sess, 'tmp/autoencoder_stacked.ckpt')\n",
    "    X_test = mnist.test.images[:2]\n",
    "    output_val = output.eval(feed_dict={X: X_test})"
   ]
  },
  {
   "cell_type": "markdown",
   "metadata": {},
   "source": [
    "Visualize the first two test images. To compare, also visualize their predictions."
   ]
  },
  {
   "cell_type": "code",
   "execution_count": 27,
   "metadata": {},
   "outputs": [
    {
     "data": {
      "text/plain": [
       "<matplotlib.image.AxesImage at 0x1b696a7f7b8>"
      ]
     },
     "execution_count": 27,
     "metadata": {},
     "output_type": "execute_result"
    },
    {
     "data": {
      "image/png": "[encoded data removed]",
      "text/plain": [
       "<matplotlib.figure.Figure at 0x1b69672f8d0>"
      ]
     },
     "metadata": {},
     "output_type": "display_data"
    }
   ],
   "source": [
    "fig, axes = plt.subplots(2, 2, figsize=(10, 10))\n",
    "axes[0, 0].imshow(mnist.test.images[0, :].reshape([-1, 28]), cmap='gray')\n",
    "axes[0, 1].imshow(output_val[0, :].reshape([-1, 28]), cmap='gray')\n",
    "axes[1, 0].imshow(mnist.test.images[1, :].reshape([-1, 28]), cmap='gray')\n",
    "axes[1, 1].imshow(output_val[1, :].reshape([-1, 28]), cmap='gray')"
   ]
  },
  {
   "cell_type": "code",
   "execution_count": null,
   "metadata": {
    "collapsed": true
   },
   "outputs": [],
   "source": []
  }
 ],
 "metadata": {
  "kernelspec": {
   "display_name": "Python 3",
   "language": "python",
   "name": "python3"
  },
  "language_info": {
   "codemirror_mode": {
    "name": "ipython",
    "version": 3
   },
   "file_extension": ".py",
   "mimetype": "text/x-python",
   "name": "python",
   "nbconvert_exporter": "python",
   "pygments_lexer": "ipython3",
   "version": "3.6.1"
  }
 },
 "nbformat": 4,
 "nbformat_minor": 2
}
