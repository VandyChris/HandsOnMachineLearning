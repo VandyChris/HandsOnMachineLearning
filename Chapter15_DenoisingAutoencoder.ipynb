{
 "cells": [
  {
   "cell_type": "markdown",
   "metadata": {},
   "source": [
    "Import tensorflow, and reset graph"
   ]
  },
  {
   "cell_type": "code",
   "execution_count": 1,
   "metadata": {
    "collapsed": true
   },
   "outputs": [],
   "source": [
    "#\n",
    "import tensorflow as tf\n",
    "import numpy as np\n",
    "import matplotlib.pyplot as plt\n",
    "%matplotlib inline"
   ]
  },
  {
   "cell_type": "code",
   "execution_count": 2,
   "metadata": {},
   "outputs": [
    {
     "name": "stdout",
     "output_type": "stream",
     "text": [
      "Extracting datasets\\mnist\\train-images-idx3-ubyte.gz\n",
      "Extracting datasets\\mnist\\train-labels-idx1-ubyte.gz\n",
      "Extracting datasets\\mnist\\t10k-images-idx3-ubyte.gz\n",
      "Extracting datasets\\mnist\\t10k-labels-idx1-ubyte.gz\n"
     ]
    }
   ],
   "source": [
    "#\n",
    "from tensorflow.examples.tutorials.mnist import input_data\n",
    "mnist = input_data.read_data_sets('datasets\\mnist')"
   ]
  },
  {
   "cell_type": "code",
   "execution_count": 3,
   "metadata": {
    "collapsed": true
   },
   "outputs": [],
   "source": [
    "#\n",
    "tf.reset_default_graph()"
   ]
  },
  {
   "cell_type": "code",
   "execution_count": 4,
   "metadata": {
    "collapsed": true
   },
   "outputs": [],
   "source": [
    "#\n",
    "n_inputs = 28 * 28\n",
    "n_hidden1 = 300\n",
    "n_hidden2 = 150  # codings\n",
    "n_hidden3 = n_hidden1\n",
    "n_outputs = n_inputs\n",
    "\n",
    "learning_rate = 0.01"
   ]
  },
  {
   "cell_type": "markdown",
   "metadata": {},
   "source": [
    "# Add noise to data"
   ]
  },
  {
   "cell_type": "code",
   "execution_count": 5,
   "metadata": {
    "collapsed": true
   },
   "outputs": [],
   "source": [
    "X = tf.placeholder(tf.float32, shape=[None, n_inputs])\n",
    "training = tf.placeholder_with_default(False, shape=(), name='training')"
   ]
  },
  {
   "cell_type": "code",
   "execution_count": 6,
   "metadata": {},
   "outputs": [],
   "source": [
    "# Add gaussin noise\n",
    "noise_level = 1.0\n",
    "X_noisy = X + noise_level * tf.random_normal(tf.shape(X))\n",
    "\n",
    "\n",
    "# use drop out\n",
    "# drop_rate = 0.3\n",
    "# X_noisy = tf.layers.dropout(X, drop_rate, training=training)"
   ]
  },
  {
   "cell_type": "markdown",
   "metadata": {},
   "source": [
    "# Version 1: no dropout"
   ]
  },
  {
   "cell_type": "code",
   "execution_count": 7,
   "metadata": {
    "collapsed": true
   },
   "outputs": [],
   "source": [
    "with tf.name_scope('nn'):\n",
    "    hidden1 = tf.layers.dense(X_noisy, n_hidden1, activation=tf.nn.relu,\n",
    "                              name=\"hidden1\")\n",
    "    hidden2 = tf.layers.dense(hidden1, n_hidden2, activation=tf.nn.relu, \n",
    "                              name=\"hidden2\")                       \n",
    "    hidden3 = tf.layers.dense(hidden2, n_hidden3, activation=tf.nn.relu,\n",
    "                              name=\"hidden3\")                           \n",
    "    outputs = tf.layers.dense(hidden3, n_outputs, name=\"outputs\") \n"
   ]
  },
  {
   "cell_type": "code",
   "execution_count": 8,
   "metadata": {
    "collapsed": true
   },
   "outputs": [],
   "source": [
    "with tf.name_scope('loss'):\n",
    "    loss = tf.reduce_mean(tf.square(outputs - X))"
   ]
  },
  {
   "cell_type": "code",
   "execution_count": 9,
   "metadata": {
    "collapsed": true
   },
   "outputs": [],
   "source": [
    "with tf.name_scope('train'):\n",
    "    optimizer = tf.train.AdamOptimizer()\n",
    "    training_op = optimizer.minimize(loss)"
   ]
  },
  {
   "cell_type": "code",
   "execution_count": 10,
   "metadata": {
    "collapsed": true
   },
   "outputs": [],
   "source": [
    "init = tf.global_variables_initializer()\n",
    "saver = tf.train.Saver()"
   ]
  },
  {
   "cell_type": "code",
   "execution_count": 11,
   "metadata": {
    "collapsed": true
   },
   "outputs": [],
   "source": [
    "n_epoches = 20\n",
    "batch_size = 50\n",
    "n_step = mnist.train.num_examples // batch_size"
   ]
  },
  {
   "cell_type": "code",
   "execution_count": 12,
   "metadata": {},
   "outputs": [
    {
     "name": "stdout",
     "output_type": "stream",
     "text": [
      "Epoch: 0 Train MSE: 0.0419317\n",
      "Epoch: 1 Train MSE: 0.0374756\n",
      "Epoch: 2 Train MSE: 0.0349893\n",
      "Epoch: 3 Train MSE: 0.0352223\n",
      "Epoch: 4 Train MSE: 0.0322926\n",
      "Epoch: 5 Train MSE: 0.0335435\n",
      "Epoch: 6 Train MSE: 0.0291172\n",
      "Epoch: 7 Train MSE: 0.0339018\n",
      "Epoch: 8 Train MSE: 0.0312829\n",
      "Epoch: 9 Train MSE: 0.0312467\n",
      "Epoch: 10 Train MSE: 0.0288671\n",
      "Epoch: 11 Train MSE: 0.0307829\n",
      "Epoch: 12 Train MSE: 0.0304649\n",
      "Epoch: 13 Train MSE: 0.030755\n",
      "Epoch: 14 Train MSE: 0.0281252\n",
      "Epoch: 15 Train MSE: 0.0305665\n",
      "Epoch: 16 Train MSE: 0.0304098\n",
      "Epoch: 17 Train MSE: 0.0341688\n",
      "Epoch: 18 Train MSE: 0.0296405\n",
      "Epoch: 19 Train MSE: 0.0308977\n"
     ]
    }
   ],
   "source": [
    "with tf.Session() as sess:\n",
    "    sess.run(init)\n",
    "    for epoch in range(n_epoches):\n",
    "        for step in range(n_step):\n",
    "            X_batch, y_batch = mnist.train.next_batch(batch_size)\n",
    "            sess.run(training_op, feed_dict={X: X_batch, training: True})\n",
    "        loss_train = loss.eval(feed_dict={X: X_batch})\n",
    "        print(\"Epoch: {}\".format(epoch), \"Train MSE:\", loss_train)\n",
    "        saver.save(sess, \"tmp/my_model_stacked_denoising.ckpt\")"
   ]
  },
  {
   "cell_type": "code",
   "execution_count": 13,
   "metadata": {},
   "outputs": [
    {
     "name": "stdout",
     "output_type": "stream",
     "text": [
      "INFO:tensorflow:Restoring parameters from tmp/my_model_stacked_denoising.ckpt\n"
     ]
    }
   ],
   "source": [
    "with tf.Session() as sess:\n",
    "    saver.restore(sess, 'tmp/my_model_stacked_denoising.ckpt')\n",
    "    X_test = mnist.test.images[:2]\n",
    "    output_val = outputs.eval(feed_dict={X: X_test})"
   ]
  },
  {
   "cell_type": "code",
   "execution_count": 14,
   "metadata": {
    "scrolled": true
   },
   "outputs": [
    {
     "data": {
      "text/plain": [
       "<matplotlib.image.AxesImage at 0x218807004a8>"
      ]
     },
     "execution_count": 14,
     "metadata": {},
     "output_type": "execute_result"
    },
    {
     "data": {
      "image/png": "[encoded data removed]",
      "text/plain": [
       "<matplotlib.figure.Figure at 0x21880474898>"
      ]
     },
     "metadata": {},
     "output_type": "display_data"
    }
   ],
   "source": [
    "fig, axes = plt.subplots(2, 2, figsize=(10, 10))\n",
    "axes[0, 0].imshow(mnist.test.images[0, :].reshape([-1, 28]), cmap='gray')\n",
    "axes[0, 1].imshow(output_val[0, :].reshape([-1, 28]), cmap='gray')\n",
    "axes[1, 0].imshow(mnist.test.images[1, :].reshape([-1, 28]), cmap='gray')\n",
    "axes[1, 1].imshow(output_val[1, :].reshape([-1, 28]), cmap='gray')"
   ]
  }
 ],
 "metadata": {
  "kernelspec": {
   "display_name": "Python 3",
   "language": "python",
   "name": "python3"
  },
  "language_info": {
   "codemirror_mode": {
    "name": "ipython",
    "version": 3
   },
   "file_extension": ".py",
   "mimetype": "text/x-python",
   "name": "python",
   "nbconvert_exporter": "python",
   "pygments_lexer": "ipython3",
   "version": "3.6.1"
  }
 },
 "nbformat": 4,
 "nbformat_minor": 2
}
