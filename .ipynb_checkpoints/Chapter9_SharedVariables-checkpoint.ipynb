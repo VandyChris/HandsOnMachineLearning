{
 "cells": [
  {
   "cell_type": "code",
   "execution_count": 1,
   "metadata": {
    "collapsed": true
   },
   "outputs": [],
   "source": [
    "import tensorflow as tf\n",
    "import numpy as np"
   ]
  },
  {
   "cell_type": "code",
   "execution_count": 2,
   "metadata": {
    "collapsed": true
   },
   "outputs": [],
   "source": [
    "tf.reset_default_graph()"
   ]
  },
  {
   "cell_type": "code",
   "execution_count": 3,
   "metadata": {
    "collapsed": true
   },
   "outputs": [],
   "source": [
    "def relu(X):\n",
    "    w_shape = (int(X.shape[1]), 1)\n",
    "    with tf.name_scope('model'):\n",
    "        # retreive the variable \"threshold\" in \"share_scope\" scope. \n",
    "        # Since it is in a variable_scope, the name_scope would be ignored\n",
    "        with tf.variable_scope('share_scope', reuse=True):\n",
    "            threshold = tf.get_variable('threshold') \n",
    "        w = tf.Variable(tf.random_normal(w_shape), name='weights')\n",
    "        b = tf.Variable(0.0, name='bias')\n",
    "        z = tf.add(tf.matmul(X, w), b, name='z')\n",
    "        print('-------------------------------')\n",
    "        print(threshold.name)\n",
    "        print(w.name)\n",
    "        print(b.name)\n",
    "        print(z.name)\n",
    "        print('-------------------------------')\n",
    "        return tf.maximum(z, threshold, name='relu')"
   ]
  },
  {
   "cell_type": "code",
   "execution_count": 4,
   "metadata": {
    "collapsed": true
   },
   "outputs": [],
   "source": [
    "X = tf.placeholder(tf.float32, shape=(None, 3), name='X')"
   ]
  },
  {
   "cell_type": "code",
   "execution_count": 5,
   "metadata": {},
   "outputs": [],
   "source": [
    "with tf.variable_scope('share_scope'):\n",
    "    threshold = tf.get_variable('threshold', shape=(), \n",
    "                                initializer=tf.constant_initializer(0.0))"
   ]
  },
  {
   "cell_type": "code",
   "execution_count": 6,
   "metadata": {},
   "outputs": [
    {
     "name": "stdout",
     "output_type": "stream",
     "text": [
      "-------------------------------\n",
      "share_scope/threshold:0\n",
      "model/weights:0\n",
      "model/bias:0\n",
      "model/z:0\n",
      "-------------------------------\n",
      "-------------------------------\n",
      "share_scope/threshold:0\n",
      "model_1/weights:0\n",
      "model_1/bias:0\n",
      "model_1/z:0\n",
      "-------------------------------\n",
      "-------------------------------\n",
      "share_scope/threshold:0\n",
      "model_2/weights:0\n",
      "model_2/bias:0\n",
      "model_2/z:0\n",
      "-------------------------------\n",
      "-------------------------------\n",
      "share_scope/threshold:0\n",
      "model_3/weights:0\n",
      "model_3/bias:0\n",
      "model_3/z:0\n",
      "-------------------------------\n",
      "-------------------------------\n",
      "share_scope/threshold:0\n",
      "model_4/weights:0\n",
      "model_4/bias:0\n",
      "model_4/z:0\n",
      "-------------------------------\n"
     ]
    }
   ],
   "source": [
    "relus = [relu(X) for _ in range(5)]\n",
    "output = tf.add_n(relus, name='output')"
   ]
  },
  {
   "cell_type": "code",
   "execution_count": 7,
   "metadata": {
    "collapsed": true
   },
   "outputs": [],
   "source": [
    "file_writer = tf.summary.FileWriter('share_variable/demo', graph = tf.get_default_graph())"
   ]
  },
  {
   "cell_type": "code",
   "execution_count": 8,
   "metadata": {
    "collapsed": true
   },
   "outputs": [],
   "source": [
    "file_writer.close()"
   ]
  },
  {
   "cell_type": "code",
   "execution_count": null,
   "metadata": {
    "collapsed": true
   },
   "outputs": [],
   "source": []
  }
 ],
 "metadata": {
  "kernelspec": {
   "display_name": "Python 3",
   "language": "python",
   "name": "python3"
  },
  "language_info": {
   "codemirror_mode": {
    "name": "ipython",
    "version": 3
   },
   "file_extension": ".py",
   "mimetype": "text/x-python",
   "name": "python",
   "nbconvert_exporter": "python",
   "pygments_lexer": "ipython3",
   "version": "3.6.1"
  }
 },
 "nbformat": 4,
 "nbformat_minor": 2
}
